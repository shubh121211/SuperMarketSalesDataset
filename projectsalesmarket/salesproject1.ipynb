{
 "cells": [
  {
   "cell_type": "code",
   "execution_count": 10,
   "id": "8da9b6b5-5005-4f05-98b3-36a9bbfbae1d",
   "metadata": {},
   "outputs": [
    {
     "name": "stdout",
     "output_type": "stream",
     "text": [
      "    Invoice ID Branch       City Customer type  Gender  \\\n",
      "0  750-67-8428   Alex     Yangon        Member  Female   \n",
      "1  226-31-3081   Giza  Naypyitaw        Normal  Female   \n",
      "2  631-41-3108   Alex     Yangon        Normal  Female   \n",
      "3  123-19-1176   Alex     Yangon        Member  Female   \n",
      "4  373-73-7910   Alex     Yangon        Member  Female   \n",
      "\n",
      "             Product line  Unit price  Quantity   Tax 5%     Sales       Date  \\\n",
      "0       Health and beauty       74.69         7  26.1415  548.9715   1/5/2019   \n",
      "1  Electronic accessories       15.28         5   3.8200   80.2200   3/8/2019   \n",
      "2      Home and lifestyle       46.33         7  16.2155  340.5255   3/3/2019   \n",
      "3       Health and beauty       58.22         8  23.2880  489.0480  1/27/2019   \n",
      "4       Sports and travel       86.31         7  30.2085  634.3785   2/8/2019   \n",
      "\n",
      "          Time      Payment    cogs  gross margin percentage  gross income  \\\n",
      "0   1:08:00 PM      Ewallet  522.83                 4.761905       26.1415   \n",
      "1  10:29:00 AM         Cash   76.40                 4.761905        3.8200   \n",
      "2   1:23:00 PM  Credit card  324.31                 4.761905       16.2155   \n",
      "3   8:33:00 PM      Ewallet  465.76                 4.761905       23.2880   \n",
      "4  10:37:00 AM      Ewallet  604.17                 4.761905       30.2085   \n",
      "\n",
      "   Rating  \n",
      "0     9.1  \n",
      "1     9.6  \n",
      "2     7.4  \n",
      "3     8.4  \n",
      "4     5.3  \n"
     ]
    }
   ],
   "source": [
    "import numpy as np\n",
    "import pandas as pd\n",
    "df=pd.read_csv(\"SuperMarket Analysis.csv\")\n",
    "print(df.head())"
   ]
  },
  {
   "cell_type": "code",
   "execution_count": 11,
   "id": "2efe28a5-e3fb-4308-b840-85bb98897432",
   "metadata": {},
   "outputs": [
    {
     "name": "stdout",
     "output_type": "stream",
     "text": [
      "<class 'pandas.core.frame.DataFrame'>\n",
      "RangeIndex: 1000 entries, 0 to 999\n",
      "Data columns (total 17 columns):\n",
      " #   Column                   Non-Null Count  Dtype  \n",
      "---  ------                   --------------  -----  \n",
      " 0   Invoice ID               1000 non-null   object \n",
      " 1   Branch                   1000 non-null   object \n",
      " 2   City                     1000 non-null   object \n",
      " 3   Customer type            1000 non-null   object \n",
      " 4   Gender                   1000 non-null   object \n",
      " 5   Product line             1000 non-null   object \n",
      " 6   Unit price               1000 non-null   float64\n",
      " 7   Quantity                 1000 non-null   int64  \n",
      " 8   Tax 5%                   1000 non-null   float64\n",
      " 9   Sales                    1000 non-null   float64\n",
      " 10  Date                     1000 non-null   object \n",
      " 11  Time                     1000 non-null   object \n",
      " 12  Payment                  1000 non-null   object \n",
      " 13  cogs                     1000 non-null   float64\n",
      " 14  gross margin percentage  1000 non-null   float64\n",
      " 15  gross income             1000 non-null   float64\n",
      " 16  Rating                   1000 non-null   float64\n",
      "dtypes: float64(7), int64(1), object(9)\n",
      "memory usage: 132.9+ KB\n",
      "None\n"
     ]
    },
    {
     "name": "stderr",
     "output_type": "stream",
     "text": [
      "C:\\Users\\DELL\\AppData\\Local\\Temp\\ipykernel_18200\\869648273.py:4: UserWarning: Could not infer format, so each element will be parsed individually, falling back to `dateutil`. To ensure parsing is consistent and as-expected, please specify a format.\n",
      "  df['Time']=pd.to_datetime(df['Time']).dt.time\n"
     ]
    }
   ],
   "source": [
    "# data cleaning\n",
    "print(df.info())\n",
    "df['Date']=pd.to_datetime(df['Date'])\n",
    "df['Time']=pd.to_datetime(df['Time']).dt.time"
   ]
  },
  {
   "cell_type": "code",
   "execution_count": 10,
   "id": "55ad3c0b-98fb-4589-b1c7-f91faa71d6f0",
   "metadata": {},
   "outputs": [
    {
     "name": "stdout",
     "output_type": "stream",
     "text": [
      "Mean Sales 307.58738\n",
      "Median Sales: 241.76\n",
      "Std Dev 234.05939207845432\n"
     ]
    }
   ],
   "source": [
    "# statistics\n",
    "import pandas as pd\n",
    "import numpy as np\n",
    "df=pd.read_csv(\"SuperMarket Analysis.csv\")\n",
    "total_sales = df['Total'].values\n",
    "print(\"Mean Sales\",np.mean(total_sales))\n",
    "print(\"Median Sales:\",np.median(total_sales))\n",
    "print(\"Std Dev\",np.std(total_sales))"
   ]
  },
  {
   "cell_type": "code",
   "execution_count": 6,
   "id": "298545cb-cca0-4a10-bfd4-c19075517b74",
   "metadata": {},
   "outputs": [
    {
     "name": "stdout",
     "output_type": "stream",
     "text": [
      "Branch\n",
      "Alex     101143.21\n",
      "Cairo    101140.64\n",
      "Giza     105303.53\n",
      "Name: Total, dtype: float64\n",
      "Product line\n",
      "Fashion accessories       178\n",
      "Food and beverages        174\n",
      "Electronic accessories    170\n",
      "Sports and travel         166\n",
      "Home and lifestyle        160\n",
      "Health and beauty         152\n",
      "Name: count, dtype: int64\n",
      "Gender\n",
      "Female    185401.75\n",
      "Male      122185.63\n",
      "Name: Total, dtype: float64\n"
     ]
    }
   ],
   "source": [
    "# grouping \n",
    "import pandas as pd\n",
    "df=pd.read_csv(\"SuperMarket Analysis.csv\")\n",
    "print(df.groupby('Branch')['Total'].sum())\n",
    "print(df['Product line'].value_counts())\n",
    "print(df.groupby('Gender')['Total'].sum())"
   ]
  },
  {
   "cell_type": "code",
   "execution_count": 14,
   "id": "cc106869-f1ce-4509-9357-37ef76b66146",
   "metadata": {},
   "outputs": [
    {
     "name": "stdout",
     "output_type": "stream",
     "text": [
      "0      13\n",
      "1      10\n",
      "2      13\n",
      "3      20\n",
      "4      10\n",
      "       ..\n",
      "995    13\n",
      "996    17\n",
      "997    13\n",
      "998    15\n",
      "999    13\n",
      "Name: Hour, Length: 1000, dtype: int32\n"
     ]
    }
   ],
   "source": [
    "import pandas as pd\n",
    "import numpy as np\n",
    "df=pd.read_csv(\"SuperMarket Analysis.csv\")\n",
    "df['Hour'] = pd.to_datetime(df['Time'], format='%I:%M:%S %p').dt.hour\n",
    "\n",
    "df['Sales_Category']=pd.cut(df['Total'], bins=[0,100,200,np.inf], labels =['Low','Medium','High'])\n",
    "print(df['Hour'])"
   ]
  },
  {
   "cell_type": "code",
   "execution_count": 15,
   "id": "0ddb5339-9967-4799-a90f-ea85a8469292",
   "metadata": {},
   "outputs": [
    {
     "data": {
      "image/png": "[encoded data removed]",
      "text/plain": [
       "<Figure size 640x480 with 1 Axes>"
      ]
     },
     "metadata": {},
     "output_type": "display_data"
    }
   ],
   "source": [
    "import matplotlib.pyplot as plt\n",
    "import seaborn as sns\n",
    "sns.countplot(data= df, x='Branch' )\n",
    "plt.title('Number of Sales per Branch')\n",
    "plt.show()"
   ]
  }
 ],
 "metadata": {
  "kernelspec": {
   "display_name": "Python 3",
   "language": "python",
   "name": "python3"
  },
  "language_info": {
   "codemirror_mode": {
    "name": "ipython",
    "version": 3
   },
   "file_extension": ".py",
   "mimetype": "text/x-python",
   "name": "python",
   "nbconvert_exporter": "python",
   "pygments_lexer": "ipython3",
   "version": "3.10.7"
  }
 },
 "nbformat": 4,
 "nbformat_minor": 5
}
